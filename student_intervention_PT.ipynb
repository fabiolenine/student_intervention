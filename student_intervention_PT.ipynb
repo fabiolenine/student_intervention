{
 "cells": [
  {
   "cell_type": "markdown",
   "metadata": {},
   "source": [
    "# Nanodegree Engenheiro de Machine Learning\n",
    "## Aprendizagem Supervisionada\n",
    "## Project 2: Construindo um Sistema de Intervenção para Estudantes"
   ]
  },
  {
   "cell_type": "markdown",
   "metadata": {},
   "source": [
    "Bem-vindo ao segundo projeto do Nanodegree de Machine Learning! Neste Notebook, alguns templates de código já foram fornecidos, e será o seu trabalho implementar funcionalidades necessárias para completar este projeto com êxito. Seções que começam com **'Implementação'** no cabeçalho indicam que o bloco de código que se segue precisará de funcionalidades adicionais que você deve fornecer. Instruções serão providenciadas para cada seção e as especificações para cada implementação estarão marcadas no bloco de código com o comando `'TODO'`. Tenha certeza de ler atentamente todas as instruções!\n",
    "\n",
    "Além do código implementado, haverá questões relacionadas ao projeto e à implementação que você deve responder. Cada seção em que você tem que responder uma questão será antecedida de um cabeçalho **'Questão X'**. Leia atentamente cada questão e escreva respostas completas nas caixas de texto subsequentes que começam com **'Resposta: '**. O projeto enviado será avaliado baseado nas respostas para cada questão e a implementação que você forneceu.  \n",
    "\n",
    ">**Nota:** Células de código e Markdown podem ser executadas utilizando o atalho de teclado **Shift + Enter**. Além disso, as células Markdown podem ser editadas, um clique duplo na célula entra no modo de edição."
   ]
  },
  {
   "cell_type": "markdown",
   "metadata": {},
   "source": [
    "### Questão 1 - Classificação versus Regressão\n",
    "*Seu objetivo neste projeto é identificar estudantes que possam precisar de intervenção antecipada antes de serem reprovados. Que tipo de problema de aprendizagem supervisionada é esse: classificação ou regressão? Por quê?*"
   ]
  },
  {
   "cell_type": "markdown",
   "metadata": {},
   "source": [
    "**Resposta: ** É do tipo classificação. Pois a regressão é usada para prever valores, que não é o caso. Desta forma, o problema é adequado para classificacão porque o objetivo é identificar alunos que possui caracteristicas que os fará reprovar. \n",
    "Em outras palavras, o atributo alvo possuem rótulos (ou classes), os quais essas assumem valores discretos, desta forma podemos perceber que se trata de classificação. Se, por outro lado, o atributo alvo contivesse valores numéricos contínuos, teriamos um problema do tipo regressão.  "
   ]
  },
  {
   "cell_type": "markdown",
   "metadata": {},
   "source": [
    "## Observando os Dados\n",
    "Execute a célula de código abaixo para carregar as bibliotecas de Python necessárias e os dados sobre os estudantes. Note que a última coluna desse conjunto de dados, `'passed'`, será nosso rótulo alvo (se o aluno foi ou não aprovado). As outras colunas são atributos sobre cada aluno."
   ]
  },
  {
   "cell_type": "code",
   "execution_count": 1,
   "metadata": {},
   "outputs": [
    {
     "name": "stdout",
     "output_type": "stream",
     "text": [
      "Os dados dos estudantes foram lidos com êxito!\n",
      "  school sex  age address famsize Pstatus  Medu  Fedu     Mjob      Fjob  \\\n",
      "0     GP   F   18       U     GT3       A     4     4  at_home   teacher   \n",
      "1     GP   F   17       U     GT3       T     1     1  at_home     other   \n",
      "2     GP   F   15       U     LE3       T     1     1  at_home     other   \n",
      "3     GP   F   15       U     GT3       T     4     2   health  services   \n",
      "4     GP   F   16       U     GT3       T     3     3    other     other   \n",
      "\n",
      "   ...   internet romantic  famrel  freetime  goout Dalc Walc health absences  \\\n",
      "0  ...         no       no       4         3      4    1    1      3        6   \n",
      "1  ...        yes       no       5         3      3    1    1      3        4   \n",
      "2  ...        yes       no       4         3      2    2    3      3       10   \n",
      "3  ...        yes      yes       3         2      2    1    1      5        2   \n",
      "4  ...         no       no       4         3      2    1    2      5        4   \n",
      "\n",
      "  passed  \n",
      "0     no  \n",
      "1     no  \n",
      "2    yes  \n",
      "3    yes  \n",
      "4    yes  \n",
      "\n",
      "[5 rows x 31 columns]\n",
      "(395, 31)\n"
     ]
    }
   ],
   "source": [
    "# Importar bibliotecas\n",
    "import numpy as np\n",
    "import pandas as pd\n",
    "from time import time\n",
    "from sklearn.metrics import f1_score\n",
    "from numba import autojit\n",
    "\n",
    "# Ler os dados dos estudantes\n",
    "student_data = pd.read_csv(\"student-data.csv\")\n",
    "print \"Os dados dos estudantes foram lidos com êxito!\"\n",
    "print student_data.head()\n",
    "print student_data.shape"
   ]
  },
  {
   "cell_type": "markdown",
   "metadata": {},
   "source": [
    "### Implementação: Observando os Dados\n",
    "Vamos começar observando o conjunto de dados para determinar quantos são os estudantes sobre os quais temos informações e entender a taxa de graduação entre esses estudantes. Na célula de código abaixo, você vai precisar calcular o seguinte:\n",
    "- O número total de estudantes, `n_students`.\n",
    "- O número total de atributos para cada estudante, `n_features`.\n",
    "- O número de estudantes aprovados, `n_passed`.\n",
    "- O número de estudantes reprovados, `n_failed`.\n",
    "- A taxa de graduação da classe, `grad_rate`, em porcentagem (%).\n"
   ]
  },
  {
   "cell_type": "code",
   "execution_count": 2,
   "metadata": {},
   "outputs": [
    {
     "name": "stdout",
     "output_type": "stream",
     "text": [
      "Número total de estudantes: 394\n",
      "Número de atributos: 30\n",
      "Número de estudantes aprovados: 265\n",
      "Número de estudantes reprovados: 130\n",
      "Taxa de graduação: 67.26%\n"
     ]
    }
   ],
   "source": [
    "from __future__ import division\n",
    "# TODO: Calcule o número de estudante\n",
    "n_students = student_data.shape[0] -1\n",
    "\n",
    "# TODO: Calcule o número de atributos\n",
    "n_features = student_data.columns[:-1].size\n",
    "\n",
    "# TODO: Calcule o número de alunos aprovados\n",
    "n_passed = student_data.passed.value_counts()['yes']\n",
    "\n",
    "# TODO: Calcule o número de alunos reprovados\n",
    "n_failed = student_data.passed.value_counts()['no']\n",
    "\n",
    "# TODO: Calcule a taxa de graduação\n",
    "grad_rate = n_passed/n_students*100\n",
    "\n",
    "# Imprima os resultados\n",
    "print \"Número total de estudantes: {}\".format(n_students)\n",
    "print \"Número de atributos: {}\".format(n_features)\n",
    "print \"Número de estudantes aprovados: {}\".format(n_passed)\n",
    "print \"Número de estudantes reprovados: {}\".format(n_failed)\n",
    "print \"Taxa de graduação: {:.2f}%\".format(grad_rate)"
   ]
  },
  {
   "cell_type": "markdown",
   "metadata": {},
   "source": [
    "## Preparando os Dados\n",
    "Nesta seção, vamos preparara os dados para modelagem, treinamento e teste.\n",
    "\n",
    "### Identificar atributos e variáveis-alvo\n",
    "É comum que os dados que você obteve contenham atributos não numéricos. Isso pode ser um problema, dado que a maioria dos algoritmos de machine learning esperam dados númericos para operar cálculos.\n",
    "\n",
    "Execute a célula de código abaixo para separar os dados dos estudantes em atributos e variáveis-alvo e verificar se algum desses atributos é não numérico."
   ]
  },
  {
   "cell_type": "code",
   "execution_count": 3,
   "metadata": {},
   "outputs": [
    {
     "name": "stdout",
     "output_type": "stream",
     "text": [
      "Colunas de atributos:\n",
      "['school', 'sex', 'age', 'address', 'famsize', 'Pstatus', 'Medu', 'Fedu', 'Mjob', 'Fjob', 'reason', 'guardian', 'traveltime', 'studytime', 'failures', 'schoolsup', 'famsup', 'paid', 'activities', 'nursery', 'higher', 'internet', 'romantic', 'famrel', 'freetime', 'goout', 'Dalc', 'Walc', 'health', 'absences']\n",
      "\n",
      "Coluna-alvo: passed\n",
      "\n",
      "Feature values:\n",
      "  school sex  age address famsize Pstatus  Medu  Fedu     Mjob      Fjob  \\\n",
      "0     GP   F   18       U     GT3       A     4     4  at_home   teacher   \n",
      "1     GP   F   17       U     GT3       T     1     1  at_home     other   \n",
      "2     GP   F   15       U     LE3       T     1     1  at_home     other   \n",
      "3     GP   F   15       U     GT3       T     4     2   health  services   \n",
      "4     GP   F   16       U     GT3       T     3     3    other     other   \n",
      "\n",
      "    ...    higher internet  romantic  famrel  freetime goout Dalc Walc health  \\\n",
      "0   ...       yes       no        no       4         3     4    1    1      3   \n",
      "1   ...       yes      yes        no       5         3     3    1    1      3   \n",
      "2   ...       yes      yes        no       4         3     2    2    3      3   \n",
      "3   ...       yes      yes       yes       3         2     2    1    1      5   \n",
      "4   ...       yes       no        no       4         3     2    1    2      5   \n",
      "\n",
      "  absences  \n",
      "0        6  \n",
      "1        4  \n",
      "2       10  \n",
      "3        2  \n",
      "4        4  \n",
      "\n",
      "[5 rows x 30 columns]\n"
     ]
    }
   ],
   "source": [
    "# Extraia as colunas dos atributo\n",
    "feature_cols = list(student_data.columns[:-1])\n",
    "# Extraia a coluna-alvo, 'passed'\n",
    "target_col = student_data.columns[-1] \n",
    "\n",
    "# Mostre a lista de colunas\n",
    "print \"Colunas de atributos:\\n{}\".format(feature_cols)\n",
    "print \"\\nColuna-alvo: {}\".format(target_col)\n",
    "\n",
    "# Separe os dados em atributos e variáveis-alvo (X_all e y_all, respectivamente)\n",
    "X_all = student_data[feature_cols]\n",
    "y_all = student_data[target_col]\n",
    "\n",
    "# Mostre os atributos imprimindo as cinco primeiras linhas\n",
    "print \"\\nFeature values:\"\n",
    "print X_all.head()"
   ]
  },
  {
   "cell_type": "markdown",
   "metadata": {},
   "source": [
    "### Pré-processar Colunas de Atributo\n",
    "\n",
    "Como você pode ver, há muitas colunas não numéricas que precisam ser convertidas! Muitas delas são simplesmente `yes`/`no`, por exemplo, a coluna `internet`. É razoável converter essas variáveis em valores (binários) `1`/`0`.\n",
    "\n",
    "Outras colunas, como `Mjob` e `Fjob`, têm mais do que dois valores e são conhecidas como variáveis categóricas. A maneira recomendada de lidar com esse tipo de coluna é criar uma quantidade de colunas proporcional aos possíveis valores (por exemplo, `Fjob_teacher`, `Fjob_other`, `Fjob_services`, etc), e assinalar `1` para um deles e `0` para todos os outros.\n",
    "\n",
    "Essas colunas geradas são por vezes chamadas de _variáveis postiças_ (em inglês: _dummy variables_), e nós iremos utilizar a função [`pandas.get_dummies()`](http://pandas.pydata.org/pandas-docs/stable/generated/pandas.get_dummies.html?highlight=get_dummies#pandas.get_dummies) para fazer essa conversão. Execute a célula de código abaixo para executar a rotina de pré-processamento discutida nesta seção."
   ]
  },
  {
   "cell_type": "code",
   "execution_count": 4,
   "metadata": {},
   "outputs": [
    {
     "name": "stdout",
     "output_type": "stream",
     "text": [
      "Processed feature columns (48 total features):\n",
      "['school_GP', 'school_MS', 'sex_F', 'sex_M', 'age', 'address_R', 'address_U', 'famsize_GT3', 'famsize_LE3', 'Pstatus_A', 'Pstatus_T', 'Medu', 'Fedu', 'Mjob_at_home', 'Mjob_health', 'Mjob_other', 'Mjob_services', 'Mjob_teacher', 'Fjob_at_home', 'Fjob_health', 'Fjob_other', 'Fjob_services', 'Fjob_teacher', 'reason_course', 'reason_home', 'reason_other', 'reason_reputation', 'guardian_father', 'guardian_mother', 'guardian_other', 'traveltime', 'studytime', 'failures', 'schoolsup', 'famsup', 'paid', 'activities', 'nursery', 'higher', 'internet', 'romantic', 'famrel', 'freetime', 'goout', 'Dalc', 'Walc', 'health', 'absences']\n"
     ]
    }
   ],
   "source": [
    "@autojit\n",
    "def preprocess_features(X):\n",
    "    ''' Pré-processa os dados dos estudantes e converte as variáveis binárias não numéricas em\n",
    "        variáveis binárias (0/1). Converte variáveis categóricas em variáveis postiças. '''\n",
    "    \n",
    "    # Inicialize nova saída DataFrame\n",
    "    output = pd.DataFrame(index = X.index)\n",
    "\n",
    "    # Observe os dados em cada coluna de atributos \n",
    "    for col, col_data in X.iteritems():\n",
    "        \n",
    "        # Se o tipo de dado for não numérico, substitua todos os valores yes/no por 1/0\n",
    "        if col_data.dtype == object:\n",
    "            col_data = col_data.replace(['yes', 'no'], [1, 0])\n",
    "\n",
    "        # Se o tipo de dado for categórico, converta-o para uma variável dummy\n",
    "        if col_data.dtype == object:\n",
    "            # Example: 'school' => 'school_GP' and 'school_MS'\n",
    "            col_data = pd.get_dummies(col_data, prefix = col)  \n",
    "        \n",
    "        # Reúna as colunas revisadas\n",
    "        output = output.join(col_data)\n",
    "    \n",
    "    return output\n",
    "\n",
    "X_all = preprocess_features(X_all)\n",
    "print \"Processed feature columns ({} total features):\\n{}\".format(len(X_all.columns), list(X_all.columns))"
   ]
  },
  {
   "cell_type": "markdown",
   "metadata": {},
   "source": [
    "### Implementação: Divisão dos Dados de Treinamento e Teste\n",
    "Até agora, nós convertemos todos os atributos _categóricos_ em valores numéricos. Para o próximo passo, vamos dividir os dados (tanto atributos como os rótulos correspondentes) em conjuntos de treinamento e teste. Na célula de código abaixo, você irá precisar implementar o seguinte:\n",
    "- Embaralhe aleatoriamente os dados (`X_all`, `y_all`) em subconjuntos de treinamento e teste.\n",
    "  - Utilizar 300 pontos de treinamento (aproxidamente 75%) e 95 pontos de teste (aproximadamente 25%).\n",
    "  - Estabelecer um `random_state` para as funções que você utiliza, se a opção existir.\n",
    "  - Armazene os resultados em `X_train`, `X_test`, `y_train` e `y_test`."
   ]
  },
  {
   "cell_type": "code",
   "execution_count": 5,
   "metadata": {},
   "outputs": [
    {
     "name": "stdout",
     "output_type": "stream",
     "text": [
      "O conjunto de treinamento tem 300 amostras.\n",
      "O conjunto de teste tem 95 amostras.\n"
     ]
    },
    {
     "name": "stderr",
     "output_type": "stream",
     "text": [
      "/Users/fabiolenine/anaconda/lib/python2.7/site-packages/sklearn/cross_validation.py:44: DeprecationWarning: This module was deprecated in version 0.18 in favor of the model_selection module into which all the refactored classes and functions are moved. Also note that the interface of the new CV iterators are different from that of this module. This module will be removed in 0.20.\n",
      "  \"This module will be removed in 0.20.\", DeprecationWarning)\n"
     ]
    }
   ],
   "source": [
    "# TODO: Importe qualquer funcionalidade adicional de que você possa precisar aqui\n",
    "from sklearn.cross_validation import train_test_split\n",
    "\n",
    "# TODO: Estabeleça o número de pontos de treinamento\n",
    "num_train = 300\n",
    "\n",
    "# Estabeleça o número de pontos de teste\n",
    "num_test = X_all.shape[0] - num_train\n",
    "\n",
    "# TODO: Emabaralhe e distribua o conjunto de dados de acordo com o número de pontos de treinamento e teste abaixo\n",
    "X_train, X_test, y_train, y_test  = train_test_split(X_all, y_all, stratify=y_all, test_size=0.24, random_state=42)\n",
    "\n",
    "# Mostre o resultado da distribuição\n",
    "print \"O conjunto de treinamento tem {} amostras.\".format(X_train.shape[0])\n",
    "print \"O conjunto de teste tem {} amostras.\".format(X_test.shape[0])"
   ]
  },
  {
   "cell_type": "markdown",
   "metadata": {},
   "source": [
    "## Treinando e Avaliando Modelos\n",
    "Nesta seção, você irá escolher 3 modelos de aprendizagem supervisionada que sejam apropriados para esse problema e que estejam disponíveis no `scikit-learn`. Primeiro você irá discutir o raciocínio por trás da escolha desses três modelos considerando suas vantagens e desvantagens e o que você sabe sobre os dados. Depois você irá ajustar o modelo a diferentes tamanhos de conjuntos de treinamento (com 100, 200 e 300 pontos) e medir a pontuação F<sub>1</sub>. Você vai precisar preencher três tabelas (uma para cada modelo) que mostrem o tamanho do conjunto de treinamento, o tempo de treinamento, o tempo de previsão e a pontuação F<sub>1</sub> no conjunto de treinamento.\n",
    "\n",
    "**Os seguintes modelos de aprendizagem supervisionada estão atualmente disponíveis no **[`scikit-learn`](http://scikit-learn.org/stable/supervised_learning.html)** para você escolher:**\n",
    "- Gaussian Naive Bayes (GaussianNB)\n",
    "- Árvores de Decisão\n",
    "- Métodos de agregação (Bagging, AdaBoost, Random Forest, Gradient Boosting)\n",
    "- K-Nearest Neighbors (KNeighbors)\n",
    "- Método do gradiente estocástico (SGDC)\n",
    "- Máquinas de vetores de suporte (SVM)\n",
    "- Regressão logística"
   ]
  },
  {
   "cell_type": "markdown",
   "metadata": {},
   "source": [
    "### Questão 2 - Aplicação dos Modelos\n",
    "*Liste três modelos de aprendizagem supervisionada que são apropriadas para esse problema. Para cada modelo escolhido:*\n",
    "- Descreva uma aplicação em mundo real na indústria em que o modelo pode ser aplicado. *(Talvez você precise fazer um pouco de pesquisa para responder essa questão – dê as devidas referências!)* \n",
    "- Quais são as vantagens do modelo; quando ele tem desempenho melhor? \n",
    "- Quais são as desvantagens do modelo, quando ele tem desempenho pior?\n",
    "- O que faz desse modelo um bom candidato para o problema, considerando o que você sabe sobre os dados?"
   ]
  },
  {
   "cell_type": "markdown",
   "metadata": {},
   "source": [
    "**Resposta: ** \n",
    "1. **Regressão logística:** \n",
    "    + Aplicação da regressão logística no mundo real pode ser utilizado para análise de risco de crédito de consignação, análise espacial de dados arqueológicos, análise de intensão de votos em eleições e etc;\n",
    "    + As vantagens do uso da regressão logística no caso em pauta é o tempo de treinamento pequeno para uma excelente precisão, o uso de linearidade e possui poucos parametros de ajustes;\n",
    "    + As desvantagens da regressão logística são: necessidade de grande amostra de dados para treinamento, usada somente para prever funções discretas (que não desabona no caso em pauta);\n",
    "    + O que faz desse modelo um bom candidato: \n",
    "        - excelente precisão para um tempo de treinamento pequeno.\n",
    "        - trabalha com probabilidade, utiliza função logistica (log-linear), podendo lidar com aspectos não lineares.\n",
    "\n",
    "* **Árvore de Decisão: **\n",
    "    + Aplicação da árvore de decisão no mundo real pode ser utilizado para a identificação de características em biomédica, na área médica para diagnóstico, classificação de texto médico, em astronomia para classificação de estrelas de imagens geradas pelo telescópio espacial Hubble e etc;\n",
    "    + As vantagens do uso da árvore de decisão para o caso em pauta é a capacidade de lidar com dados, tanto numéricas e categóricas, o uso de linearidade, tempo de treinamento moderado para uma excelente precisão, possíbilidade de validar um modelo usando testes estatísticos, torna simples de entender e interpretar o modelo, podendo ser visualizado e o custo de utilização da árvore (isto é, a previsão de dados) é logarítmica no número de pontos de dados utilizado para formar a árvore;.\n",
    "    + As desvantagens do uso da árvore de decisão são: a possibilidade de criar árvores tendenciosas se houverem algumas classes dominantes; pode criar árvores complexas, que não generalizam os dados; \n",
    "    + O que faz desse modelo um bom candidato é a excelente precisão para um tempo de predição pequeno.\n",
    "    \n",
    "        * Árvores de descisão foi escolhido porque é um dos algoritimos mais comumente usados, no mundo real ou acadêmico, apresentando as seguintes vantagens de uso: \n",
    "        - flexibilidade - por não assumir nenhuma distribuição para os dados;\n",
    "        - robustez - árvores univariáveis são invariantes a transformações (estritamente) monótonas de variáveis de entrada;\n",
    "        - eficiência - usa uma estratégia de dividir para conquistar sem _backtracking_ e a complexidade de tempo é linear com o número de exemplos.\n",
    "    \n",
    "\n",
    "* **Máquinas de vetores de suporte (SVM): **\n",
    "    + A aplicação da Máquinas de Vetores de Suporte no mundo real pode ser utilizado para reconhecimento de escritos a mão, na área biologica na classificação de proteínas e etc.\n",
    "    + As vantagens do uso da Máquinas de Vetores de Suporte para o caso em pauta é a eficacia em quantidade de dimensionamento elevado, a possibilidade de utilização de kernels, separar classes mais rapidamente e com menos superajuste do que a maioria dos outros algoritmos, além de exigir apenas uma pequena quantidade de memória.\n",
    "    + As desvantagens da Máquinas de Vetores de Suporte são: não fornece diretamente estimativas de probabilidade; se o número de características é muito maior do que o número de amostras, o método é susceptível de dar maus resultados.\n",
    "    + O que faz desse modelo um bom candidato é busca do limite que separa as classes pela maior margem possível. Quando as duas classes não puderem ser claramente separadas, os algoritmos encontrarão o melhor limite possível.\n",
    "\n",
    "O SVM foi escolhido porque utiliza-se da Teoria de Aprendizado Estatístico (TAE), ou seja, possui uma boa capacidade de generalização, é robusto diante de objetos de grande dimessão e possui caracteristica de convexidade de problema de otimização formulado em seu treinamento, que implica a existência de um único mínimo global. **Além disso, o uso de funções kernel na não linearização das SVMs torna o algoritmo eficiente, pois permite a construção de simples hiperplanos em um espaço de alta dimensão de forma tratável do ponto de vista computacional (Burges, 1998)**.  "
   ]
  },
  {
   "cell_type": "markdown",
   "metadata": {},
   "source": [
    "### Configuração\n",
    "Execute a célula de código abaixo para inicializar três funções de ajuda que você pode utilizar para treinar e testar os três modelos de aprendizagem supervisionada que você escolheu acima. As funções são as seguintes:\n",
    "- `train_classifier` - recebe como parâmetro um classificador e dados de treinamento e ajusta o classificador aos dados.\n",
    "- `predict_labels` - recebe como parâmetro um classificador ajustado, atributos e rótulo alvo e faz estimativas utilizando a pontuação do F<sub>1</sub>.\n",
    "- `train_predict` - recebe como entrada um classificador, e dados de treinamento e teste, e executa `train_clasifier` e `predict_labels`.\n",
    " - Essa função vai dar a pontuação F<sub>1</sub> tanto para os dados de treinamento como para os de teste, separadamente."
   ]
  },
  {
   "cell_type": "code",
   "execution_count": 6,
   "metadata": {
    "collapsed": true
   },
   "outputs": [],
   "source": [
    "@autojit\n",
    "def train_classifier(clf, X_train, y_train):\n",
    "    ''' Ajusta um classificador para os dados de treinamento. '''\n",
    "    \n",
    "    # Inicia o relógio, treina o classificador e, então, para o relógio\n",
    "    start = time()\n",
    "    clf.fit(X_train, y_train)\n",
    "    end = time()\n",
    "    \n",
    "    # Imprime os resultados\n",
    "    print \"O modelo foi treinado em {:.4f} segundos\".format(end - start)\n",
    "\n",
    "@autojit    \n",
    "def predict_labels(clf, features, target):\n",
    "    ''' Faz uma estimativa utilizando um classificador ajustado baseado na pontuação F1. '''\n",
    "    \n",
    "    # Inicia o relógio, faz estimativas e, então, o relógio para\n",
    "    start = time()\n",
    "    y_pred = clf.predict(features)\n",
    "    end = time()\n",
    "    \n",
    "    # Imprime os resultados de retorno\n",
    "    print \"As previsões foram feitas em {:.4f} segundos.\".format(end - start)\n",
    "    return f1_score(target.values, y_pred, pos_label='yes')\n",
    "\n",
    "@autojit\n",
    "def train_predict(clf, X_train, y_train, X_test, y_test):\n",
    "    ''' Treina e faz estimativas utilizando um classificador baseado na pontuação do F1. '''\n",
    "    \n",
    "    # Indica o tamanho do classificador e do conjunto de treinamento\n",
    "    print \"Treinando um {} com {} pontos de treinamento. . .\".format(clf.__class__.__name__, len(X_train))\n",
    "    \n",
    "    # Treina o classificador\n",
    "    train_classifier(clf, X_train, y_train)\n",
    "    \n",
    "    # Imprime os resultados das estimativas de ambos treinamento e teste\n",
    "    print \"Pontuação F1 para o conjunto de treino: {:.4f}.\".format(predict_labels(clf, X_train, y_train))\n",
    "    print \"Pontuação F1 para o conjunto de teste: {:.4f}.\".format(predict_labels(clf, X_test, y_test))\n",
    "\n",
    "@autojit    \n",
    "def pl_plot(clf, features, target):\n",
    "    y_pred = clf.predict(features)\n",
    "    return f1_score(target.values, y_pred, pos_label='yes')\n",
    "\n",
    "@autojit\n",
    "def tc_plot(clf, X_train, y_train):\n",
    "    clf.fit(X_train, y_train)"
   ]
  },
  {
   "cell_type": "markdown",
   "metadata": {},
   "source": [
    "### Implementação: Métricas de Desempenho do Modelo\n",
    "Com as funções acima, você vai importar os três modelos de aprendizagem supervisionada de sua escolha e executar a função `train_prediction` para cada um deles. Lembre-se de que você vai precisar treinar e usar cada classificador para três diferentes tamanhos de conjuntos de treinamentos: 100, 200 e 300 pontos. Então você deve ter 9 saídas diferentes abaixo – 3 para cada modelo utilizando cada tamanho de conjunto de treinamento. Na célula de código a seguir, você deve implementar o seguinte:\n",
    "- Importe os três modelos de aprendizagem supervisionada que você escolheu na seção anterior.\n",
    "- Inicialize os três modelos e armazene eles em `clf_A`, `clf_B` e `clf_C`.\n",
    " - Defina um `random_state` para cada modelo, se a opção existir.\n",
    " - **Nota:** Utilize as configurações padrão para cada modelo – você vai calibrar um modelo específico em uma seção posterior.\n",
    "- Crie diferentes tamanhos de conjuntos de treinamento para treinar cada modelo.\n",
    " - *Não embaralhe e distribua novamente os dados! Os novos pontos de treinamento devem ser tirados de `X_train` e `y_train`.*\n",
    "- Treine cada modelo com cada tamanho de conjunto de treinamento e faça estimativas com o conjunto de teste (9 vezes no total).  \n",
    "**Nota:** Três tabelas são fornecidas depois da célula de código a seguir, nas quais você deve anotar seus resultados."
   ]
  },
  {
   "cell_type": "code",
   "execution_count": 7,
   "metadata": {},
   "outputs": [
    {
     "name": "stderr",
     "output_type": "stream",
     "text": [
      "/Users/fabiolenine/anaconda/lib/python2.7/site-packages/numba/dataflow.py:351: RuntimeWarning: Python2 style print partially supported.  Please use Python3 style print.\n",
      "  \"Python3 style print.\", RuntimeWarning)\n"
     ]
    },
    {
     "name": "stdout",
     "output_type": "stream",
     "text": [
      "Treinando um LogisticRegression com 100 pontos de treinamento. . .\n",
      "\n",
      "O modelo foi treinado em 0.0456 segundos\n",
      "\n",
      "As previsões foram feitas em 0.0024 segundos.\n",
      "\n",
      "Pontuação F1 para o conjunto de treino: 0.8671.\n",
      "\n",
      "As previsões foram feitas em 0.0006 segundos.\n",
      "\n",
      "Pontuação F1 para o conjunto de teste: 0.7068.\n",
      "\n",
      "Treinando um LogisticRegression com 200 pontos de treinamento. . .\n",
      "\n",
      "O modelo foi treinado em 0.0041 segundos\n",
      "\n",
      "As previsões foram feitas em 0.0006 segundos.\n",
      "\n",
      "Pontuação F1 para o conjunto de treino: 0.8211.\n",
      "\n",
      "As previsões foram feitas em 0.0004 segundos.\n",
      "\n",
      "Pontuação F1 para o conjunto de teste: 0.7391.\n",
      "\n",
      "Treinando um LogisticRegression com 300 pontos de treinamento. . .\n",
      "\n",
      "O modelo foi treinado em 0.0051 segundos\n",
      "\n",
      "As previsões foram feitas em 0.0006 segundos.\n",
      "\n",
      "Pontuação F1 para o conjunto de treino: 0.8512.\n",
      "\n",
      "As previsões foram feitas em 0.0004 segundos.\n",
      "\n",
      "Pontuação F1 para o conjunto de teste: 0.7500.\n",
      "\n",
      "Treinando um DecisionTreeClassifier com 100 pontos de treinamento. . .\n",
      "\n",
      "O modelo foi treinado em 0.0016 segundos\n",
      "\n",
      "As previsões foram feitas em 0.0004 segundos.\n",
      "\n",
      "Pontuação F1 para o conjunto de treino: 1.0000.\n",
      "\n",
      "As previsões foram feitas em 0.0005 segundos.\n",
      "\n",
      "Pontuação F1 para o conjunto de teste: 0.6452.\n",
      "\n",
      "Treinando um DecisionTreeClassifier com 200 pontos de treinamento. . .\n",
      "\n",
      "O modelo foi treinado em 0.0024 segundos\n",
      "\n",
      "As previsões foram feitas em 0.0005 segundos.\n",
      "\n",
      "Pontuação F1 para o conjunto de treino: 1.0000.\n",
      "\n",
      "As previsões foram feitas em 0.0006 segundos.\n",
      "\n",
      "Pontuação F1 para o conjunto de teste: 0.7258.\n",
      "\n",
      "Treinando um DecisionTreeClassifier com 300 pontos de treinamento. . .\n",
      "\n",
      "O modelo foi treinado em 0.0041 segundos\n",
      "\n",
      "As previsões foram feitas em 0.0006 segundos.\n",
      "\n",
      "Pontuação F1 para o conjunto de treino: 1.0000.\n",
      "\n",
      "As previsões foram feitas em 0.0003 segundos.\n",
      "\n",
      "Pontuação F1 para o conjunto de teste: 0.6838.\n",
      "\n",
      "Treinando um SVC com 100 pontos de treinamento. . .\n",
      "\n",
      "O modelo foi treinado em 0.0026 segundos\n",
      "\n",
      "As previsões foram feitas em 0.0017 segundos.\n",
      "\n",
      "Pontuação F1 para o conjunto de treino: 0.8354.\n",
      "\n",
      "As previsões foram feitas em 0.0016 segundos.\n",
      "\n",
      "Pontuação F1 para o conjunto de teste: 0.8025.\n",
      "\n",
      "Treinando um SVC com 200 pontos de treinamento. . .\n",
      "\n",
      "O modelo foi treinado em 0.0077 segundos\n",
      "\n",
      "As previsões foram feitas em 0.0056 segundos.\n",
      "\n",
      "Pontuação F1 para o conjunto de treino: 0.8431.\n",
      "\n",
      "As previsões foram feitas em 0.0028 segundos.\n",
      "\n",
      "Pontuação F1 para o conjunto de teste: 0.8105.\n",
      "\n",
      "Treinando um SVC com 300 pontos de treinamento. . .\n",
      "\n",
      "O modelo foi treinado em 0.0153 segundos\n",
      "\n",
      "As previsões foram feitas em 0.0110 segundos.\n",
      "\n",
      "Pontuação F1 para o conjunto de treino: 0.8664.\n",
      "\n",
      "As previsões foram feitas em 0.0036 segundos.\n",
      "\n",
      "Pontuação F1 para o conjunto de teste: 0.8052.\n",
      "\n"
     ]
    }
   ],
   "source": [
    "# TODO: Importe os três modelos de aprendizagem supervisionada do sklearn\n",
    "# from sklearn import model_A\n",
    "# from sklearn import model_B\n",
    "# from skearln import model_C\n",
    "from sklearn.linear_model import LogisticRegression\n",
    "from sklearn.tree import DecisionTreeClassifier\n",
    "from sklearn.svm import SVC\n",
    "\n",
    "# TODO: Inicialize os três modelos\n",
    "clf_A = LogisticRegression(random_state = 42)\n",
    "clf_B = DecisionTreeClassifier(random_state = 42)\n",
    "clf_C = SVC(random_state = 42)\n",
    "\n",
    "# TODO: Configure os tamanho dos conjuntos de treinamento\n",
    "for clf in [clf_A, clf_B, clf_C]:\n",
    "\n",
    "    # tamanhos das amostras\n",
    "    for n in [100, 200, 300]:\n",
    "\n",
    "        # TODO: gerar dados de treinamento ao recolher os primeiros 100 pontos de X_train, assim com os primeiros 200, e finalmente todos os 300 pontos\n",
    "        train_predict(clf, X_train[:n], y_train[:n], X_test, y_test)"
   ]
  },
  {
   "cell_type": "markdown",
   "metadata": {},
   "source": [
    "### Resultados Tabulados\n",
    "Edite a célula abaixo e veja como a tabela pode ser desenhada em [Markdown](https://github.com/adam-p/markdown-here/wiki/Markdown-Cheatsheet#tables). Você deve salvar seus resultados abaixo nas tabelas fornecidas."
   ]
  },
  {
   "cell_type": "markdown",
   "metadata": {},
   "source": [
    "** Classificador 1 - LogisticRegression**  \n",
    "\n",
    "| Tamanho do Conjunto de Treinamento | Tempo de Treinamento | Tempo de Estimativa (teste) | Pontuação F1 (treinamento) | Pontuação F1 (teste) |\n",
    "| :--------------------------------: | :------------------: | :-------------------------: | :------------------------: | :------------------: |\n",
    "| 100                                | 0.0036               | 0.0004                      | 0.8671                      | 0.7068               |\n",
    "| 200                                | 0.0037               | 0.0004                      | 0.8211                      | 0.7391               |\n",
    "| 300                                | 0.0047               | 0.0003                      | 0.8512                     | 0.7500               |\n",
    "\n",
    "** Classificador 2 - DecisionTree**  \n",
    "\n",
    "| Tamanho do Conjunto de Treinamento | Tempo de Treinamento | Tempo de Estimativa (teste) | Pontuação F1 (treinamento) | Pontuação F1 (teste) |\n",
    "| :--------------------------------: | :------------------: | :-------------------------: | :------------------------: | :------------------: |\n",
    "| 100                                | 0.0014               | 0.0003                      | 1.0000                      | 0.6452               |\n",
    "| 200                                | 0.0022               | 0.0004                      | 1.0000                      | 0.7258               |\n",
    "| 300                                | 0.0029               | 0.0004                      | 1.0000                      | 0.6838               |\n",
    "\n",
    "** Classificador 3 - SVM**  \n",
    "\n",
    "| Tamanho do Conjunto de Treinamento | Tempo de Treinamento | Tempo de Estimativa (teste) | Pontuação F1 (treinamento) | Pontuação F1 (teste) |\n",
    "| :--------------------------------: | :------------------: | :-------------------------: | :------------------------: | :------------------: |\n",
    "| 100                                | 0.0022               | 0.0013                      | 0.8354                      | 0.8025               |\n",
    "| 200                                | 0.0057               | 0.0020                      | 0.8431                      | 0.8105               |\n",
    "| 300                                | 0.0132               | 0.0030                      | 0.8664                      | 0.8052               |"
   ]
  },
  {
   "cell_type": "code",
   "execution_count": 8,
   "metadata": {},
   "outputs": [
    {
     "data": {
      "image/png": "[encoded data removed]",
      "text/plain": [
       "<matplotlib.figure.Figure at 0x10f0b3a90>"
      ]
     },
     "metadata": {},
     "output_type": "display_data"
    },
    {
     "name": "stdout",
     "output_type": "stream",
     "text": [
      "Média de F1 para:\n",
      "Logistic Regression : 0.7383\n",
      "Decision tree : 0.7026\n",
      "SVM : 0.8016\n"
     ]
    }
   ],
   "source": [
    "from matplotlib import pyplot as plt\n",
    "\n",
    "#Define quantos passos de treinamento iremos avaliar.\n",
    "step_size = 10\n",
    "\n",
    "#Método que é responsável por resgatar o índice F1 de cada classificador para diferentes tamanhos de amostra\n",
    "@autojit\n",
    "def get_F1(clf, training_set_size):\n",
    "        X_train_sample = X_train[:training_set_size]\n",
    "        y_train_sample = y_train[:training_set_size]\n",
    "        tc_plot(clf, X_train_sample, y_train_sample)\n",
    "        return pl_plot(clf, X_test, y_test)\n",
    "\n",
    "#Aqui criamos uma lista com todos os resultados de F1 para cada um dos classificadores    \n",
    "f1_list_all = []\n",
    "for clf in [clf_A, clf_B, clf_C]:\n",
    "    f1_list = []\n",
    "    for training_set_size in range(10,301,step_size):\n",
    "        f1_list.append(get_F1(clf, training_set_size))\n",
    "    f1_list_all.append(f1_list)\n",
    "\n",
    "#Aqui geramos um gráfico que irá nos revelar a evolução do F1 de cada classificador\n",
    "plt.plot(range(10,301,step_size), f1_list_all[0], label='Logistic Regression')\n",
    "plt.plot(range(10,301,step_size), f1_list_all[1], label='Decision tree')\n",
    "plt.plot(range(10,301,step_size), f1_list_all[2], label='SVM')\n",
    "\n",
    "#Configurando eixos \n",
    "plt.xlabel('Training set size')\n",
    "plt.ylabel('F1 score')\n",
    "plt.legend(loc=4)  \n",
    "\n",
    "#gerando grafico \n",
    "plt.show()\n",
    "\n",
    "print 'Média de F1 para:'\n",
    "print 'Logistic Regression : {:.4f}'.format(np.mean(f1_list_all[0]))\n",
    "print 'Decision tree : {:.4f}'.format(np.mean(f1_list_all[1]))\n",
    "print 'SVM : {:.4f}'.format(np.mean(f1_list_all[2]))"
   ]
  },
  {
   "cell_type": "markdown",
   "metadata": {},
   "source": [
    "## Escolhendo o Melhor Modelo\n",
    "Nesta seção final, você irá escolher dos três modelos de aprendizagem supervisionada o *melhor* para utilizar os dados dos estudantes. Você então executará um busca em matriz otimizada para o modelo em todo o conjunto de treinamento (`X_train` e `y_train`) ao calibrar pelo menos um parâmetro, melhorando em comparação a pontuação F<sub>1</sub> do modelo não calibrado. "
   ]
  },
  {
   "cell_type": "markdown",
   "metadata": {},
   "source": [
    "### Questão 3 - Escolhendo o Melhor Modelo\n",
    "*Baseando-se nos experimentos que você executou até agora, explique em um ou dois parágrafos ao conselho de supervisores qual modelo que você escolheu como o melhor. Qual modelo é o mais apropriado baseado nos dados disponíveis, recursos limitados, custo e desempenho?*"
   ]
  },
  {
   "cell_type": "markdown",
   "metadata": {},
   "source": [
    "**Resposta: ** Podemos verificar que os modelos que tiveram os melhores desempenhos de treinamentos foram respectivamente: SVM > Logit Regression > Decision Tree, conforme ficou demonstrado no gráfico acima. No requisito de custo de treinamento e predição o modelo Regressão Logística teve melhor desempenho, conforme tabela acima exposta. Por enquanto,\n",
    "o melhor desempenho de predição foi do modelo SVM. Destarte, iremos utilizar nas proximas etapas os dois modelos e verificaremos novamente o desempenho após a calibração e normalização.\n",
    "Conforme podemos observar, no gráfico acima, o algoritmo SVM possui melhor estabilidade no F1 Score, quando comparado a Regressão Logística e a Árvores de Decisão, ao evoluir na quantidade de registros usado para o treinamento. E destacamos também as médias do F1 dos algoritmos para a escolha do SVM.\n",
    "\n",
    "**Média de F1 para:**\n",
    "\n",
    "**_SVM : 0.8016_**\n",
    "\n",
    "Logistic Regression : 0.7383\n",
    "\n",
    "Decision tree : 0.7026"
   ]
  },
  {
   "cell_type": "markdown",
   "metadata": {},
   "source": [
    "### Questão 4 – O Modelo para um Leigo\n",
    "*Em um ou dois parágrafos, explique para o conselho de supervisores, utilizando termos leigos, como o modelo final escolhido deve trabalhar. Tenha certeza que você esteja descrevendo as melhores qualidades do modelo, por exemplo, como o modelo é treinado e como ele faz uma estimativa. Evite jargões técnicos ou matemáticos, como descrever equações ou discutir a implementação do algoritmo.*"
   ]
  },
  {
   "cell_type": "markdown",
   "metadata": {},
   "source": [
    "**Resposta: ** O nosso objetivo é identificar como melhor classificar os dois grupos de alunos, os que aprovam e os que reprovam, utilizando para isso as características dos alunos. \n",
    "\n",
    "O algoritmo SVM (Support Vector Machine), que escolhemos, funcionará da seguinte forma:\n",
    "\n",
    "1 - Das linhas traçadas identificar a linha que melhor separou os grupos, no gráfico de exemplo abaixo, a melhor linha foi a B;\n",
    "![Traçando linhas com SVM](https://www.analyticsvidhya.com/wp-content/uploads/2015/10/SVM_21.png)\n",
    "\n",
    "2 - Nesse momento a linha será ajustada deixando um margem igual de ambos os lados, para identificar essas margens serão realizados cálculos de distância dos pontos dos grupos mais próximos as linhas de suporte (pontilhadas), conforme o gráfico de exemplo abaixo, posicionando a linha (constante) de forma centralizada entre as linhas de suporte (pontilhadas), de uma forma que a torne mais robusta na separação dos grupos;\n",
    "![Ajustando as Margens do SVM](https://camo.githubusercontent.com/ae3d247a4c7cf5bc9f4134a1a90c0df69b39e988/68747470733a2f2f7777772e64747265672e636f6d2f75706c6f616465642f70616765696d672f53766d4d617267696e322e6a7067)\n",
    "\n",
    "3 - Uma vez determinada a melhor posição da linha reta (de tal forma que as distâncias do pronto mais proximo de cada um dos dois grupos sejam mais distantes), podemos submeter características de alunos não classificados e obter a informação de que grupo ele está mais propenso (dependendo de onde os dados de teste caíram de cada lado da linha), alunos que aprovam ou reprovam.\n",
    "\n",
    "No item dois, comentei sobre as linhas (pontilhadas), esses são os vetores de suporte de um Support Vector Machine, e podemos perceber que eles são importantes para encontrar as melhores margens da linha classificatória entre os grupos.\n",
    "\n",
    "Para os dados que não são lineares, como por exemplo os gráficos abaixo, o SVM pode eficientemente realizar uma classificação não-linear, usando funções matemáticas (kernel) que elevam o espaço de entrada dimensional abaixo para espaço dimensional alto. \n",
    "![SVM não linear](https://www.analyticsvidhya.com/wp-content/uploads/2015/10/SVM_8.png)\n",
    "![SVM não linear transformado em linear](https://www.analyticsvidhya.com/wp-content/uploads/2015/10/SVM_9.png)"
   ]
  },
  {
   "cell_type": "markdown",
   "metadata": {},
   "source": [
    "### Implementação: Calibrando o Modelo\n",
    "Calibre o modelo escolhido. Utilize busca em matriz (`GridSearchCV`) com, pelo menos, um parâmetro importante calibrado com, pelo menos, 3 valores diferentes. Você vai precisar utilizar todo o conjunto de treinamento para isso. Na célula de código abaixo, você deve implementar o seguinte:\n",
    "- Importe [`sklearn.grid_search.gridSearchCV`](http://scikit-learn.org/stable/modules/generated/sklearn.grid_search.GridSearchCV.html) e [`sklearn.metrics.make_scorer`](http://scikit-learn.org/stable/modules/generated/sklearn.metrics.make_scorer.html).\n",
    "- Crie o dicionário de parâmetros que você deseja calibrar para o modelo escolhido.\n",
    " - Examplo: `parameters = {'parameter' : [list of values]}`.\n",
    "- Inicialize o classificador que você escolheu e armazene-o em `clf`.\n",
    "- Crie a função de pontuação F<sub>1</sub> utilizando `make_scorer` e armazene-o em `f1_scorer`.\n",
    " - Estabeleça o parâmetro `pos_label` para o valor correto!\n",
    "- Execute uma busca em matriz no classificador `clf` utilizando o `f1_scorer` como método de pontuação e armazene-o em `grid_obj`.\n",
    "- Treine o objeto de busca em matriz com os dados de treinamento (`X_train`, `y_train`) e armazene-o em `grid_obj`."
   ]
  },
  {
   "cell_type": "code",
   "execution_count": 10,
   "metadata": {},
   "outputs": [
    {
     "name": "stdout",
     "output_type": "stream",
     "text": [
      "{'kernel': 'rbf', 'C': 300, 'gamma': 0.001}\n",
      "As previsões foram feitas em 0.0090 segundos.\n",
      "\n",
      "O modelo calibrado tem F1 de 0.9009 no conjunto de treinamento.\n",
      "As previsões foram feitas em 0.0030 segundos.\n",
      "\n",
      "O modelo calibrado tem F1 de 0.7391 no conjunto de teste.\n"
     ]
    }
   ],
   "source": [
    "# TODO: Importe 'GridSearchCV' e 'make_scorer'\n",
    "from sklearn import grid_search\n",
    "from sklearn.metrics import f1_score, make_scorer\n",
    "from sklearn.preprocessing import Normalizer\n",
    "from sklearn.cross_validation import StratifiedShuffleSplit\n",
    "\n",
    "clf_SVM = SVC()\n",
    "\n",
    "# TODO: Faça uma função de pontuação f1 utilizando 'make_scorer' \n",
    "f1_scorer = make_scorer(f1_score, pos_label=\"yes\")\n",
    "\n",
    "# TODO: Crie a lista de parâmetros que você gostaria de calibrar\n",
    "# C_range = np.logspace(-2, 8, 11)\n",
    "###\n",
    "# Não foi possível utilizar o C_range, no desenvolvimento do projeto por causa da capacidade limitada da minha máquina.\n",
    "###\n",
    "\n",
    "param_grid = [\n",
    "  {\n",
    "    #'C': C_range,\n",
    "   'C': [1, 10, 100, 200, 300, 400, 500],   # Cost - Penalização de elementos dentro da margem de suporte\n",
    "   'gamma': [1e-2, 1e-3, 1e-4, 1e-5, 1e-6], # Gamma - (parâmetro do kernel) Ajusta como dois pontos devem ser considerados semelhantes\n",
    "   'kernel': ['linear','rbf'],              # Kernel - Define a função de custo que será minimizada\n",
    "  }\n",
    " ]\n",
    "\n",
    "# TODO: Inicialize o classificador\n",
    "cv = StratifiedShuffleSplit(y_train, random_state=42)\n",
    "\n",
    "# TODO: Execute uma busca em matriz no classificador utilizando o f1_scorer como método de pontuação\n",
    "grid_obj_SVM = grid_search.GridSearchCV(clf_SVM, param_grid,cv=cv,scoring = f1_scorer)\n",
    "\n",
    "# TODO: Ajuste o objeto de busca em matriz para o treinamento de dados e encontre os parâmetros ótimos\n",
    "grid_obj_SVM.fit(X_train, y_train)\n",
    "\n",
    "# Get the estimator\n",
    "print grid_obj_SVM.best_params_\n",
    "reg = grid_obj_SVM.best_estimator_\n",
    "\n",
    "# Reporte a pontuação final F1 para treinamento e teste depois de calibrar os parâmetrosprint \"Tuned model has a training F1 score of {:.4f}.\".format(predict_labels(clf, X_train, y_train))\n",
    "print \"O modelo calibrado tem F1 de {:.4f} no conjunto de treinamento.\".format(predict_labels(reg, X_train, y_train))\n",
    "print \"O modelo calibrado tem F1 de {:.4f} no conjunto de teste.\".format(predict_labels(reg, X_test, y_test))"
   ]
  },
  {
   "cell_type": "code",
   "execution_count": 13,
   "metadata": {},
   "outputs": [
    {
     "name": "stdout",
     "output_type": "stream",
     "text": [
      "== com Normalização ==================================================\n",
      "{'kernel': 'rbf', 'C': 300, 'gamma': 0.001}\n",
      "As previsões foram feitas em 0.0118 segundos.\n",
      "\n",
      "O modelo calibrado tem F1 de 0.8024 no conjunto de treinamento.\n",
      "As previsões foram feitas em 0.0029 segundos.\n",
      "\n",
      "O modelo calibrado tem F1 de 0.8050 no conjunto de teste.\n"
     ]
    }
   ],
   "source": [
    "normer = Normalizer()\n",
    "X_train = normer.fit_transform(X_train)\n",
    "X_test = normer.transform(X_test)\n",
    "\n",
    "print \"== com Normalização ==================================================\"\n",
    "print grid_obj_SVM.best_params_\n",
    "print \"O modelo calibrado tem F1 de {:.4f} no conjunto de treinamento.\".format(predict_labels(reg, X_train, y_train))\n",
    "print \"O modelo calibrado tem F1 de {:.4f} no conjunto de teste.\".format(predict_labels(reg, X_test, y_test))"
   ]
  },
  {
   "cell_type": "code",
   "execution_count": 12,
   "metadata": {},
   "outputs": [
    {
     "data": {
      "image/png": "[encoded data removed]",
      "text/plain": [
       "<matplotlib.figure.Figure at 0x111f59050>"
      ]
     },
     "metadata": {},
     "output_type": "display_data"
    },
    {
     "name": "stdout",
     "output_type": "stream",
     "text": [
      "Média de F1 para SVM : 0.8050\n"
     ]
    }
   ],
   "source": [
    "f1_list = []\n",
    "for training_set_size in range(10,301,step_size):\n",
    "    f1_list.append(get_F1(clf_SVM, training_set_size))\n",
    "\n",
    "#Aqui geramos um gráfico que irá nos revelar a evolução do F1 de cada classificador\n",
    "plt.plot(range(10,301,step_size), f1_list, label='SVM')\n",
    "\n",
    "#Configurando eixos \n",
    "plt.xlabel('Training set size')\n",
    "plt.ylabel('F1 score')\n",
    "plt.legend(loc=1)  \n",
    "\n",
    "#gerando grafico \n",
    "plt.show()\n",
    "\n",
    "print 'Média de F1 para SVM : {:.4f}'.format(np.mean(f1_list))"
   ]
  },
  {
   "cell_type": "markdown",
   "metadata": {},
   "source": [
    "### Questão 5 - Pontuação F<sub>1</sub> Final\n",
    "*Qual é a pontuação F<sub>1</sub> do modelo final para treinamento e teste? Como ele se compara ao modelo que não foi calibrado?*"
   ]
  },
  {
   "cell_type": "markdown",
   "metadata": {},
   "source": [
    "**Resposta: ** Podemos observar, na tabela abaixo, que a pontuação F<sub>1</sub>, do modelo SVM, obteve precisão para treinamentos de 0.8024 e testes de 0.8050. Após a calibração e normalização o modelo SVM, apresentou um crescimento no tempo necessário para processamento do treinamento, porem um pequeno ganho para estimativa. No entanto, melhorou a pontuação do F<sub>1</sub> do teste.\n",
    "\n",
    "| Normalização | Parametro   |Tempo de Treinamento | Tempo de Estimativa (teste) | Pontuação F1 (treinamento) | Pontuação F1 (teste) |\n",
    "| :----------: | :---------: |:------------------: | :-------------------------: | :------------------------: | :------------------: |\n",
    "| Não          | {'C': 100} | 0.0090              | 0.0030                      | 0.9009                     | 0.7391              |\n",
    "| **Sim**      | {'C': 100} | 0.0118              | **0.0029**                  | 0.8024                     | **0.8050**   |"
   ]
  },
  {
   "cell_type": "markdown",
   "metadata": {},
   "source": [
    "> **Nota**: Uma vez que você completou todas as implementações de código e respondeu todas as questões acima com êxito, você pode finalizar seu trabalho exportando o iPython Nothebook como um document HTML. Você pode fazer isso utilizando o menu acima e navegando para  \n",
    "**File -> Download as -> HTML (.html)**. Inclua a documentação final junto com o notebook para o envio do seu projeto."
   ]
  }
 ],
 "metadata": {
  "anaconda-cloud": {},
  "kernelspec": {
   "display_name": "Python 2",
   "language": "python",
   "name": "python2"
  },
  "language_info": {
   "codemirror_mode": {
    "name": "ipython",
    "version": 2
   },
   "file_extension": ".py",
   "mimetype": "text/x-python",
   "name": "python",
   "nbconvert_exporter": "python",
   "pygments_lexer": "ipython2",
   "version": "2.7.13"
  }
 },
 "nbformat": 4,
 "nbformat_minor": 1
}
